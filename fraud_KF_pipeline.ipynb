{
 "cells": [
  {
   "cell_type": "code",
   "execution_count": 6,
   "metadata": {},
   "outputs": [
    {
     "data": {
      "text/plain": [
       "'user-example-com'"
      ]
     },
     "execution_count": 6,
     "metadata": {},
     "output_type": "execute_result"
    }
   ],
   "source": [
    "DOWNLOAD_AND_EXTRACT_COMPONENT_URL = \"https://raw.githubusercontent.com/lehrig/kubeflow-ppc64le-components/main/data-extraction/download-and-extract-from-url/component.yaml\"\n",
    "\n",
    "DATASET_URL = \"https://ibm.box.com/shared/static/5mhxb1k13mnklij8w3zngog9rqpbg32e.zip\"\n",
    "DATASET_FILE_NAME = \"card_transdata_big.zip\"\n",
    "MODEL_NAME = \"fraud_detection-classification\"\n",
    "\n",
    "MINIO_URL = \"minio-service.kubeflow:9000\"\n",
    "MINIO_USER = \"minio\"\n",
    "MINIO_PASS = \"minio123\"\n",
    "\n",
    "with open(\"/var/run/secrets/kubernetes.io/serviceaccount/namespace\") as f:\n",
    "    NAMESPACE = f.read()\n",
    "NAMESPACE"
   ]
  },
  {
   "cell_type": "code",
   "execution_count": 15,
   "metadata": {},
   "outputs": [],
   "source": [
    "import kfp\n",
    "import kfp.components as comp\n",
    "from typing import NamedTuple\n",
    "import kfp.dsl as dsl"
   ]
  },
  {
   "cell_type": "code",
   "execution_count": 16,
   "metadata": {},
   "outputs": [],
   "source": [
    "client = kfp.Client()"
   ]
  },
  {
   "cell_type": "markdown",
   "metadata": {},
   "source": [
    "# 2 Pipeline\n",
    "## 2.1 Load Dataset"
   ]
  },
  {
   "cell_type": "code",
   "execution_count": 17,
   "metadata": {},
   "outputs": [],
   "source": [
    "download_and_extract_comp = comp.load_component_from_url(\n",
    "    DOWNLOAD_AND_EXTRACT_COMPONENT_URL\n",
    ")"
   ]
  },
  {
   "cell_type": "markdown",
   "metadata": {},
   "source": [
    "## 2.2 Preprocessing"
   ]
  },
  {
   "cell_type": "markdown",
   "metadata": {
    "_uuid": "19084f27aa806adea170b8aa8d31f41ef01e8f17"
   },
   "source": [
    "# Train Test Split"
   ]
  },
  {
   "cell_type": "code",
   "execution_count": 18,
   "metadata": {
    "_uuid": "51e6ac44185ff301d77ff5c70358ed63a0cba055"
   },
   "outputs": [],
   "source": [
    "def preprocess_data(\n",
    "    data_dir: comp.InputPath(str),\n",
    "    prep_data_dir: comp.OutputPath(str)\n",
    "):\n",
    "    from sklearn.model_selection import train_test_split\n",
    "    import numpy as np\n",
    "    import os\n",
    "    import pandas as pd\n",
    "\n",
    "    data = f'{data_dir}/card_transdata_big.csv'\n",
    "    \n",
    "    df=pd.read_csv(data, delimiter=',')\n",
    "    print(df.columns)\n",
    "\n",
    "    if not os.path.exists(prep_data_dir):\n",
    "        os.makedirs(prep_data_dir)\n",
    "\n",
    "    df.to_pickle(f'{prep_data_dir}/df.pkl')\n",
    "\n",
    "\n",
    "preprocess_data_comp = kfp.components.create_component_from_func(\n",
    "    func=preprocess_data,\n",
    "    base_image='quay.io/ibm/kubeflow-notebook-image-ppc64le@sha256:23b21f6563eb6cb8b33a0c061c82516f3967d1222e66690f46785a6cda81cc83',\n",
    ")"
   ]
  },
  {
   "cell_type": "code",
   "execution_count": 19,
   "metadata": {
    "_uuid": "2c0277fbf776834bb59da61eb5a73ce385a40209"
   },
   "outputs": [],
   "source": [
    "def train_model(\n",
    "    prep_data_dir: comp.InputPath(str),\n",
    "    model_dir: comp.OutputPath(str),\n",
    "    traintest_dir: comp.OutputPath(str)\n",
    "):\n",
    "    import os, random\n",
    "    import numpy as np\n",
    "    import pandas as pd\n",
    "    from sklearn.neural_network import MLPClassifier\n",
    "    from sklearn.model_selection import train_test_split\n",
    "    import pickle\n",
    "\n",
    "    df = pd.read_pickle(f'{prep_data_dir}/df.pkl')\n",
    "\n",
    "    y = df.fraud\n",
    "    X = df.drop('fraud', axis=1)\n",
    "\n",
    "    X_train, X_test, y_train, y_test = train_test_split(X, y, test_size=0.2, random_state=42)\n",
    "\n",
    "    mlp = MLPClassifier()\n",
    "    print(\"Starting training...\")\n",
    "    mlp.fit(X_train, y_train)\n",
    "    print(\"Training finished.\")\n",
    "\n",
    "    if not os.path.exists(model_dir):\n",
    "        os.makedirs(model_dir)\n",
    "\n",
    "    if not os.path.exists(traintest_dir):\n",
    "        os.makedirs(traintest_dir)\n",
    "\n",
    "    filename = f'{model_dir}/trained_model.sav'\n",
    "    pickle.dump(mlp, open(filename, 'wb'))\n",
    "\n",
    "    np.savez(f'{traintest_dir}/train_data.npz', X_train, y_train)\n",
    "    np.savez(f'{traintest_dir}/val_data.npz', X_test, y_test)\n",
    "\n",
    "train_model_comp = kfp.components.create_component_from_func(\n",
    "    func=train_model,\n",
    "    base_image='quay.io/ibm/kubeflow-notebook-image-ppc64le@sha256:97695b7b4dfab12a65b3d9aaea65649bee1769e578c0965f96648aa55f81fb27'\n",
    ")"
   ]
  },
  {
   "cell_type": "markdown",
   "metadata": {
    "_uuid": "9f7e646b3f6cce84fb8cbfd243be9bab723a44e7"
   },
   "source": [
    "# Evaluation"
   ]
  },
  {
   "cell_type": "code",
   "execution_count": 20,
   "metadata": {
    "_uuid": "5faca33e82001786e9c2fc83b6ec93fd2cca2059"
   },
   "outputs": [],
   "source": [
    "def evaluate_model(\n",
    "    prep_data_dir: comp.InputPath(str),\n",
    "    model_dir: comp.InputPath(str),\n",
    "):\n",
    "    import numpy as np\n",
    "    from sklearn.metrics import (\n",
    "        precision_score,\n",
    "        recall_score,\n",
    "        f1_score\n",
    "    )\n",
    "    import pickle\n",
    "\n",
    "    val_data = np.load(f'{prep_data_dir}/val_data.npz')\n",
    "    X_test = val_data[val_data.files[0]]\n",
    "    y_test = val_data[val_data.files[1]]\n",
    "\n",
    "    mlp = pickle.load(open(f'{model_dir}/trained_model.sav', 'rb'))\n",
    "\n",
    "    # make prediction\n",
    "    preds = mlp.predict(X_test)\n",
    "    # calculate accuracy\n",
    "    accuracy = np.mean(preds == y_test)\n",
    "    print(accuracy)\n",
    "\n",
    "    # calculate precision, recall, f1-score\n",
    "    precision = precision_score(y_test, preds, average='weighted')\n",
    "    recall = recall_score(y_test, preds, average='weighted')\n",
    "    f1 = f1_score(y_test, preds, average='weighted')\n",
    "    print(precision, recall, f1)\n",
    "\n",
    "\n",
    "evaluate_model_comp = kfp.components.create_component_from_func(\n",
    "    func=evaluate_model,\n",
    "    base_image='quay.io/ibm/kubeflow-notebook-image-ppc64le@sha256:97695b7b4dfab12a65b3d9aaea65649bee1769e578c0965f96648aa55f81fb27'\n",
    ")"
   ]
  },
  {
   "cell_type": "markdown",
   "metadata": {
    "_uuid": "ef08e0d5b86c994c01b64cf56b29a6039e607a48"
   },
   "source": [
    "# 3 Pipeline"
   ]
  },
  {
   "cell_type": "code",
   "execution_count": 21,
   "metadata": {},
   "outputs": [],
   "source": [
    "@dsl.pipeline(\n",
    "  name='Fraud detection classification pipeline',\n",
    "  description='Fraud detection'\n",
    ")\n",
    "def fraud_detection_pipeline(dataset_url: str,\n",
    "                    dataset_file_name: str = \"data.zip\",\n",
    "                    data_dir: str = \"/train/data\",\n",
    "                    prep_data_dir: str = \"/train/prep_data\",\n",
    "                    model_dir: str = \"/train/model\",\n",
    "                    model_name: str = \"fraud_detection-classification\",\n",
    "                    minio_url: str = MINIO_URL,\n",
    "                    minio_user: str = MINIO_USER,\n",
    "                    minio_pass: str = MINIO_PASS):\n",
    "    download_and_extract_task = download_and_extract_comp(\n",
    "        url=dataset_url,\n",
    "        file_name=dataset_file_name\n",
    "    )\n",
    "\n",
    "    preprocess_data_task = preprocess_data_comp(\n",
    "        download_and_extract_task.outputs['data_path']\n",
    "    )\n",
    "\n",
    "    train_model_task = train_model_comp(\n",
    "        preprocess_data_task.output\n",
    "    ).set_gpu_limit(1)\n",
    "\n",
    "    evaluate_model_task = evaluate_model_comp(\n",
    "        train_model_task.outputs['traintest_dir'],\n",
    "        train_model_task.outputs['model_dir']\n",
    "    ).set_gpu_limit(1)"
   ]
  },
  {
   "cell_type": "code",
   "execution_count": 22,
   "metadata": {},
   "outputs": [
    {
     "data": {
      "text/html": [
       "<a href=\"/pipeline/#/experiments/details/ca9d4882-4304-416f-8736-3e53fb4babbc\" target=\"_blank\" >Experiment details</a>."
      ],
      "text/plain": [
       "<IPython.core.display.HTML object>"
      ]
     },
     "metadata": {},
     "output_type": "display_data"
    },
    {
     "data": {
      "text/html": [
       "<a href=\"/pipeline/#/runs/details/342f8bdc-d03e-4b38-9ff9-31b880c31383\" target=\"_blank\" >Run details</a>."
      ],
      "text/plain": [
       "<IPython.core.display.HTML object>"
      ]
     },
     "metadata": {},
     "output_type": "display_data"
    },
    {
     "data": {
      "text/plain": [
       "RunPipelineResult(run_id=342f8bdc-d03e-4b38-9ff9-31b880c31383)"
      ]
     },
     "execution_count": 22,
     "metadata": {},
     "output_type": "execute_result"
    }
   ],
   "source": [
    "# Specify argument values for your pipeline run.\n",
    "arguments = {\n",
    "    'dataset_url': DATASET_URL,\n",
    "    'dataset_file_name': DATASET_FILE_NAME,\n",
    "    'data_dir': '/train/data',\n",
    "    'prep_data_dir': '/train/prep_data',\n",
    "    'model_dir': '/train/model',\n",
    "    'model_name': MODEL_NAME,\n",
    "    'minio_url': MINIO_URL,\n",
    "    'minio_user': MINIO_USER,\n",
    "    'minio_pass': MINIO_PASS\n",
    "}\n",
    "\n",
    "client.create_run_from_pipeline_func(\n",
    "    fraud_detection_pipeline,\n",
    "    arguments=arguments,\n",
    "    namespace=NAMESPACE\n",
    ")"
   ]
  },
  {
   "cell_type": "code",
   "execution_count": null,
   "metadata": {},
   "outputs": [],
   "source": []
  }
 ],
 "metadata": {
  "kernelspec": {
   "display_name": "Python 3",
   "language": "python",
   "name": "python3"
  },
  "language_info": {
   "codemirror_mode": {
    "name": "ipython",
    "version": 3
   },
   "file_extension": ".py",
   "mimetype": "text/x-python",
   "name": "python",
   "nbconvert_exporter": "python",
   "pygments_lexer": "ipython3",
   "version": "3.8.5"
  }
 },
 "nbformat": 4,
 "nbformat_minor": 4
}
